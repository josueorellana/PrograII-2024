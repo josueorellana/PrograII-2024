{
  "nbformat": 4,
  "nbformat_minor": 0,
  "metadata": {
    "colab": {
      "provenance": [],
      "authorship_tag": "ABX9TyMwgPkpkwGvy2opMC1eRWYn",
      "include_colab_link": true
    },
    "kernelspec": {
      "name": "python3",
      "display_name": "Python 3"
    },
    "language_info": {
      "name": "python"
    }
  },
  "cells": [
    {
      "cell_type": "markdown",
      "metadata": {
        "id": "view-in-github",
        "colab_type": "text"
      },
      "source": [
        "<a href=\"https://colab.research.google.com/github/josueorellana/PrograIII-2024/blob/main/Fundamentos_de_python.ipynb\" target=\"_parent\"><img src=\"https://colab.research.google.com/assets/colab-badge.svg\" alt=\"Open In Colab\"/></a>"
      ]
    },
    {
      "cell_type": "code",
      "execution_count": 3,
      "metadata": {
        "colab": {
          "base_uri": "https://localhost:8080/"
        },
        "collapsed": true,
        "id": "Ih8Lcn8mPRlP",
        "outputId": "265c8153-1606-4bec-8d4e-3a89b3da7bcb"
      },
      "outputs": [
        {
          "output_type": "stream",
          "name": "stdout",
          "text": [
            "Hola mundo\n",
            "hola Josue Orellana ,inicial: J  \n"
          ]
        }
      ],
      "source": [
        "print(\"Hola mundo\")\n",
        "nombre = \"Josue Orellana\"\n",
        "print(\"hola\",nombre, \",inicial:\",nombre [0], nombre [5])"
      ]
    },
    {
      "cell_type": "markdown",
      "source": [
        "EJERCICIOS,crear un programa en Phyton que sume dos numeros"
      ],
      "metadata": {
        "id": "qlXRrebJUtXQ"
      }
    },
    {
      "cell_type": "code",
      "source": [
        "num1 = 5\n",
        "num2 = 6\n",
        "resp = num1 + num2\n",
        "print(\"El resultado es :\", resp)"
      ],
      "metadata": {
        "colab": {
          "base_uri": "https://localhost:8080/"
        },
        "collapsed": true,
        "id": "oy1NOa_xU4j6",
        "outputId": "634c7cce-0d5f-43b5-89e8-27ec4b62cebe"
      },
      "execution_count": 4,
      "outputs": [
        {
          "output_type": "stream",
          "name": "stdout",
          "text": [
            "El resultado es : 11\n"
          ]
        }
      ]
    },
    {
      "cell_type": "markdown",
      "source": [
        "Ejercicio, crear un programa en phyton que sume dos numeros introducidos por el usuario"
      ],
      "metadata": {
        "id": "Umu9iJXNV7Rl"
      }
    },
    {
      "cell_type": "code",
      "source": [
        "print(\"num 1\")\n",
        "num1 = float(input())\n",
        "\n",
        "print(\"num 2\")\n",
        "num2 = float(input())\n",
        "\n",
        "resp = num1 + num2\n",
        "print(\"la suma es: \",resp)"
      ],
      "metadata": {
        "colab": {
          "base_uri": "https://localhost:8080/"
        },
        "collapsed": true,
        "id": "OxkGVt6EWXFI",
        "outputId": "b6b2967d-0be2-435a-b811-53d15a4fa24c"
      },
      "execution_count": 5,
      "outputs": [
        {
          "output_type": "stream",
          "name": "stdout",
          "text": [
            "num 1\n",
            "2\n",
            "num 2\n",
            "3\n",
            "la suma es:  5.0\n"
          ]
        }
      ]
    },
    {
      "cell_type": "code",
      "source": [
        "from typing import Type\n",
        "\n",
        "nombre =\"Josue David\"\n",
        "print (nombre [0:4], nombre[:4], nombre[-1], nombre[5 :len(nombre)])\n",
        "\n",
        "estado = True\n",
        "print(estado)\n",
        "\n",
        "print(type(nombre), type(num1), type(num2), type(estado))"
      ],
      "metadata": {
        "colab": {
          "base_uri": "https://localhost:8080/"
        },
        "id": "HF6sI0gpZCcu",
        "outputId": "e9f734eb-51a8-49ce-b0c8-753ff00e0771"
      },
      "execution_count": 7,
      "outputs": [
        {
          "output_type": "stream",
          "name": "stdout",
          "text": [
            "Josu Josu d  David\n",
            "True\n",
            "<class 'str'> <class 'float'> <class 'float'> <class 'bool'>\n"
          ]
        }
      ]
    },
    {
      "cell_type": "markdown",
      "source": [
        "EJERCICIO,cree un programa en Phyton que lea un numero y determine si es par o impar"
      ],
      "metadata": {
        "id": "ivOQ-3nBbxnd"
      }
    },
    {
      "cell_type": "code",
      "source": [
        "num = int(input(\"Ingrese un numero\"))\n",
        "if num % 2 == 0:\n",
        "  print(\"El numero es par\", num)\n",
        "\n",
        "else:\n",
        "    print(\"El numero es impar\")"
      ],
      "metadata": {
        "id": "kJxa26ZNcFhb"
      },
      "execution_count": null,
      "outputs": []
    }
  ]
}