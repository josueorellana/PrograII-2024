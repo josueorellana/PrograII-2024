{
  "nbformat": 4,
  "nbformat_minor": 0,
  "metadata": {
    "colab": {
      "provenance": [],
      "authorship_tag": "ABX9TyOXd6j/+jNmNHw1dwduaKGp",
      "include_colab_link": true
    },
    "kernelspec": {
      "name": "python3",
      "display_name": "Python 3"
    },
    "language_info": {
      "name": "python"
    }
  },
  "cells": [
    {
      "cell_type": "markdown",
      "metadata": {
        "id": "view-in-github",
        "colab_type": "text"
      },
      "source": [
        "<a href=\"https://colab.research.google.com/github/josueorellana/PrograIII-2024/blob/main/Fundamentos_de_python.ipynb\" target=\"_parent\"><img src=\"https://colab.research.google.com/assets/colab-badge.svg\" alt=\"Open In Colab\"/></a>"
      ]
    },
    {
      "cell_type": "code",
      "execution_count": null,
      "metadata": {
        "colab": {
          "base_uri": "https://localhost:8080/"
        },
        "collapsed": true,
        "id": "Ih8Lcn8mPRlP",
        "outputId": "265c8153-1606-4bec-8d4e-3a89b3da7bcb"
      },
      "outputs": [
        {
          "output_type": "stream",
          "name": "stdout",
          "text": [
            "Hola mundo\n",
            "hola Josue Orellana ,inicial: J  \n"
          ]
        }
      ],
      "source": [
        "print(\"Hola mundo\")\n",
        "nombre = \"Josue Orellana\"\n",
        "print(\"hola\",nombre, \",inicial:\",nombre [0], nombre [5])"
      ]
    },
    {
      "cell_type": "markdown",
      "source": [
        "EJERCICIOS,crear un programa en Phyton que sume dos numeros"
      ],
      "metadata": {
        "id": "qlXRrebJUtXQ"
      }
    },
    {
      "cell_type": "code",
      "source": [
        "num1 = 5\n",
        "num2 = 6\n",
        "resp = num1 + num2\n",
        "print(\"El resultado es :\", resp)"
      ],
      "metadata": {
        "colab": {
          "base_uri": "https://localhost:8080/"
        },
        "collapsed": true,
        "id": "oy1NOa_xU4j6",
        "outputId": "634c7cce-0d5f-43b5-89e8-27ec4b62cebe"
      },
      "execution_count": null,
      "outputs": [
        {
          "output_type": "stream",
          "name": "stdout",
          "text": [
            "El resultado es : 11\n"
          ]
        }
      ]
    },
    {
      "cell_type": "markdown",
      "source": [
        "Ejercicio, crear un programa en phyton que sume dos numeros introducidos por el usuario"
      ],
      "metadata": {
        "id": "Umu9iJXNV7Rl"
      }
    },
    {
      "cell_type": "code",
      "source": [
        "print(\"num 1\")\n",
        "num1 = float(input())\n",
        "\n",
        "print(\"num 2\")\n",
        "num2 = float(input())\n",
        "\n",
        "resp = num1 + num2\n",
        "print(\"la suma es: \",resp)"
      ],
      "metadata": {
        "colab": {
          "base_uri": "https://localhost:8080/"
        },
        "collapsed": true,
        "id": "OxkGVt6EWXFI",
        "outputId": "b6b2967d-0be2-435a-b811-53d15a4fa24c"
      },
      "execution_count": null,
      "outputs": [
        {
          "output_type": "stream",
          "name": "stdout",
          "text": [
            "num 1\n",
            "2\n",
            "num 2\n",
            "3\n",
            "la suma es:  5.0\n"
          ]
        }
      ]
    },
    {
      "cell_type": "code",
      "source": [
        "from typing import Type\n",
        "\n",
        "nombre =\"Josue David\"\n",
        "print (nombre [0:4], nombre[:4], nombre[-1], nombre[5 :len(nombre)])\n",
        "\n",
        "estado = True\n",
        "print(estado)\n",
        "\n",
        "print(type(nombre), type(num1), type(num2), type(estado))"
      ],
      "metadata": {
        "colab": {
          "base_uri": "https://localhost:8080/"
        },
        "id": "HF6sI0gpZCcu",
        "outputId": "e9f734eb-51a8-49ce-b0c8-753ff00e0771"
      },
      "execution_count": null,
      "outputs": [
        {
          "output_type": "stream",
          "name": "stdout",
          "text": [
            "Josu Josu d  David\n",
            "True\n",
            "<class 'str'> <class 'float'> <class 'float'> <class 'bool'>\n"
          ]
        }
      ]
    },
    {
      "cell_type": "markdown",
      "source": [
        "EJERCICIO, cree un programa en Phyton que lea un numero y determine si es par o impar"
      ],
      "metadata": {
        "id": "ivOQ-3nBbxnd"
      }
    },
    {
      "cell_type": "code",
      "source": [
        "num = int(input(\"Ingrese un numero\"))\n",
        "if num % 2 == 0:\n",
        "  print(\"El numero es par\", num)\n",
        "\n",
        "else:\n",
        "    print(\"El numero es impar\")"
      ],
      "metadata": {
        "id": "kJxa26ZNcFhb"
      },
      "execution_count": null,
      "outputs": []
    },
    {
      "cell_type": "markdown",
      "source": [
        "EJERCICIO: Uso de las funciones de usuario, con la suma de dos numeros."
      ],
      "metadata": {
        "id": "YGIKfx0A2Ydt"
      }
    },
    {
      "cell_type": "code",
      "source": [
        "def suma (num1, num2):\n",
        "  return num1 + num2\n",
        "\n",
        "num1 = float (input(\"Num 1: \"))\n",
        "num2 = float (input(\"Num 2: \"))\n",
        "\n",
        "resp = suma (num1, num2)\n",
        "print(\"La suma es: \", resp)"
      ],
      "metadata": {
        "colab": {
          "base_uri": "https://localhost:8080/"
        },
        "collapsed": true,
        "id": "lO-rcqPQ2tQt",
        "outputId": "cb9e48b2-bdd7-46df-a31e-b1dc6723fffe"
      },
      "execution_count": null,
      "outputs": [
        {
          "output_type": "stream",
          "name": "stdout",
          "text": [
            "Num 1: 5\n",
            "Num 2: 9\n",
            "La suma es:  14.0\n"
          ]
        }
      ]
    },
    {
      "cell_type": "markdown",
      "source": [
        "EJERCICIO: Convertir grados celsius a farenheit, usando funciones de usuario."
      ],
      "metadata": {
        "id": "-d5Pi7QU4ENn"
      }
    },
    {
      "cell_type": "code",
      "source": [
        "def convertir_cf(c):\n",
        "  return c*1.8 + 32\n",
        "\n",
        "c = float(input(\"Celsius: \"))\n",
        "print(\"F: \",convertir_cf(c))"
      ],
      "metadata": {
        "colab": {
          "base_uri": "https://localhost:8080/"
        },
        "id": "-hxjFzt-4kb9",
        "outputId": "60c6a4bd-c418-4792-b9d3-101ce64ad46f"
      },
      "execution_count": null,
      "outputs": [
        {
          "output_type": "stream",
          "name": "stdout",
          "text": [
            "Celsius: 33\n",
            "F:  91.4\n"
          ]
        }
      ]
    },
    {
      "cell_type": "markdown",
      "source": [
        "EJERCICIO: Determina si un numero es par o impar."
      ],
      "metadata": {
        "id": "ncHhVC9M52jo"
      }
    },
    {
      "cell_type": "code",
      "source": [
        "def parImpar(num):\n",
        "  if(num%2==0):\n",
        "    return \"Par\"\n",
        "  return \"Impar\"\n",
        "\n",
        "num = int(input(\"Num: \"))\n",
        "print(\"El numero \", num, \" es: \", parImpar(num))"
      ],
      "metadata": {
        "colab": {
          "base_uri": "https://localhost:8080/"
        },
        "id": "jJdU0ahl6BVM",
        "outputId": "29627b18-fdda-4ae9-f2b5-ebd0302842cf"
      },
      "execution_count": null,
      "outputs": [
        {
          "output_type": "stream",
          "name": "stdout",
          "text": [
            "Num: 9\n",
            "El numero  9  es:  Impar\n"
          ]
        }
      ]
    },
    {
      "cell_type": "markdown",
      "source": [
        "**TAREA:**\n",
        "EJERCICIOS:\n",
        "1. Convertir grados Farenheits a Celsius.\n"
      ],
      "metadata": {
        "id": "bGkwE8CL87xH"
      }
    },
    {
      "cell_type": "code",
      "source": [
        "def conversor(f):\n",
        "  c = (f-32) * 5/9\n",
        "  return c\n",
        "\n",
        "f = float(input(\"\"\"Ingrese el numero de grados Farenheits a convertir:\n",
        " \"\"\"))\n",
        "print(F\"La conversion a grados Celsius es: {conversor(f)}\")"
      ],
      "metadata": {
        "colab": {
          "base_uri": "https://localhost:8080/"
        },
        "id": "v5xIpZlp9c5W",
        "outputId": "dfb4ba21-7b8b-46f9-9dca-4c56031f8a2a"
      },
      "execution_count": null,
      "outputs": [
        {
          "output_type": "stream",
          "name": "stdout",
          "text": [
            "Ingrese el numero de grados Farenheits a convertir:\n",
            " 60\n",
            "La conversion a grados Celsius es: 15.555555555555555\n"
          ]
        }
      ]
    },
    {
      "cell_type": "markdown",
      "source": [
        "2. Convertir de grados [Celsius y Farenheit] a Kelvin."
      ],
      "metadata": {
        "id": "C8A3lm6CDqC_"
      }
    },
    {
      "cell_type": "code",
      "source": [
        "print(\"\"\"Seleccione la opción de conversión:\n",
        "1. Celsius a Kelvin\n",
        "2. Fahrenheit a Kelvin\"\"\")\n",
        "opcion = int(input(\"\"\"Ingrese la opción (1 o 2):\n",
        "\"\"\"))\n",
        "\n",
        "def CelsiusAkelvin(c):\n",
        "    return c + 273.15\n",
        "\n",
        "def FahrenheitAkelvin(f):\n",
        "    return (f - 32) * 5 / 9 + 273.15\n",
        "\n",
        "if opcion == 1:\n",
        "        c = float(input(\"\"\"Ingrese los grados Celsius a convertir:\n",
        "\"\"\"))\n",
        "        print(f\"La conversión a grados Kelvin es: {CelsiusAkelvin(c):.2f}\")\n",
        "elif opcion == 2:\n",
        "        f = float(input(\"\"\"Ingrese los grados Fahrenheit a convertir:\n",
        "\"\"\"))\n",
        "        print(f\"La conversión a grados Kelvin es: {FahrenheitAkelvin(f):.2f}\")\n",
        "else:\n",
        "        print(\"Opción no válida. Por favor, seleccione 1 o 2.\")\n",
        "\n"
      ],
      "metadata": {
        "colab": {
          "base_uri": "https://localhost:8080/"
        },
        "id": "AMqw6wIHD7z1",
        "outputId": "99a924dd-7c45-4e79-e230-bcfc728e4207"
      },
      "execution_count": 23,
      "outputs": [
        {
          "output_type": "stream",
          "name": "stdout",
          "text": [
            "Seleccione la opción de conversión:\n",
            "1. Celsius a Kelvin\n",
            "2. Fahrenheit a Kelvin\n",
            "Ingrese la opción (1 o 2):\n",
            "1\n",
            "Ingrese los grados Celsius a convertir:\n",
            "1\n",
            "La conversión a grados Kelvin es: 274.15\n"
          ]
        }
      ]
    },
    {
      "cell_type": "markdown",
      "source": [
        "EJERCICIO: Calcular el sueldo de un trabajador."
      ],
      "metadata": {
        "id": "P7lGVFpVEYrY"
      }
    },
    {
      "cell_type": "code",
      "source": [
        "def sueldo(numHrs, valorXHrs):\n",
        "  sueldo = numHrs * valorXHrs * 30\n",
        "  if(numHrs>8):\n",
        "    sueldo = sueldo + (numHrs-8) * valorXHrs * 30\n",
        "    return sueldo\n",
        "\n",
        "numHrs = int(input(\"Horas: \"))\n",
        "valorXHrs = float(input(\"valor: \"))\n",
        "\n",
        "print(\"Sueldo: \", sueldo(numHrs, valorXHrs))"
      ],
      "metadata": {
        "colab": {
          "base_uri": "https://localhost:8080/"
        },
        "id": "f7pFw0EjEkIX",
        "outputId": "32bb4ec7-6f8e-4719-adfa-f0820fbbbcdb"
      },
      "execution_count": null,
      "outputs": [
        {
          "output_type": "stream",
          "name": "stdout",
          "text": [
            "Horas: 10\n",
            "valor: 1.5\n",
            "Sueldo:  540.0\n"
          ]
        }
      ]
    },
    {
      "cell_type": "markdown",
      "source": [
        "EJERCICIO: Elevar un numero al cuadrado"
      ],
      "metadata": {
        "id": "dgAhYL7yRYD7"
      }
    },
    {
      "cell_type": "code",
      "source": [
        "def elevarCuadrado(base=0,exponente=2):\n",
        "  return base ** exponente"
      ],
      "metadata": {
        "id": "Rw23bZbgR3Dh"
      },
      "execution_count": null,
      "outputs": []
    },
    {
      "cell_type": "code",
      "source": [
        "num = int(input(\"Num: \"))\n",
        "print(\"Cuadrado: \", elevarCuadrado(num, 3))"
      ],
      "metadata": {
        "colab": {
          "base_uri": "https://localhost:8080/"
        },
        "id": "cOASstRSSMw_",
        "outputId": "0d5f8744-d67b-40b8-b82f-16fa94b0c4d8"
      },
      "execution_count": null,
      "outputs": [
        {
          "output_type": "stream",
          "name": "stdout",
          "text": [
            "Num: 3\n",
            "Cuadrado:  27\n"
          ]
        }
      ]
    },
    {
      "cell_type": "markdown",
      "source": [
        "USANDO FUNCIONES LAMBDA."
      ],
      "metadata": {
        "id": "H_axbuADTKLQ"
      }
    },
    {
      "cell_type": "code",
      "source": [
        "elevarCuadradoLambda = lambda base, exponente: base ** exponente"
      ],
      "metadata": {
        "id": "fwI5a5cWTg14"
      },
      "execution_count": null,
      "outputs": []
    },
    {
      "cell_type": "code",
      "source": [
        "valor = int(input(\"Num: \"))\n",
        "print(\"Cuadrado: \", elevarCuadradoLambda(valor, 2))"
      ],
      "metadata": {
        "colab": {
          "base_uri": "https://localhost:8080/"
        },
        "id": "AROYvRSuT4mw",
        "outputId": "6d64b374-ce31-4625-9570-b9fab6e7e88e"
      },
      "execution_count": null,
      "outputs": [
        {
          "output_type": "stream",
          "name": "stdout",
          "text": [
            "Num: 3\n",
            "Cuadrado:  9\n"
          ]
        }
      ]
    },
    {
      "cell_type": "code",
      "source": [
        "serie = [5,4,3,2,6,7]\n",
        "resp = map(lambda x: x**2, serie)\n",
        "print(list(resp))\n",
        "\n",
        "resp2 = map(elevarCuadrado, serie)\n",
        "print(list(resp2))"
      ],
      "metadata": {
        "colab": {
          "base_uri": "https://localhost:8080/"
        },
        "id": "v5rCXT8qWK_k",
        "outputId": "f2e1cf69-e8df-4c8a-b99e-9ae19c4f9287"
      },
      "execution_count": null,
      "outputs": [
        {
          "output_type": "stream",
          "name": "stdout",
          "text": [
            "[25, 16, 9, 4, 36, 49]\n",
            "[25, 16, 9, 4, 36, 49]\n"
          ]
        }
      ]
    },
    {
      "cell_type": "markdown",
      "source": [
        "EJERCICIO: Obtener la raiz cuadrada de una serie de numeros fijos"
      ],
      "metadata": {
        "id": "YXxmboOFZ_tn"
      }
    },
    {
      "cell_type": "code",
      "source": [
        "serie = [2,4,8,10,12,14]\n",
        "resp = list (map(lambda x: x** 0.5, serie))\n",
        "print(resp)"
      ],
      "metadata": {
        "colab": {
          "base_uri": "https://localhost:8080/"
        },
        "id": "DUa5W018aOay",
        "outputId": "6614fa4c-552a-47ff-ce4f-12a49267eeb3"
      },
      "execution_count": null,
      "outputs": [
        {
          "output_type": "stream",
          "name": "stdout",
          "text": [
            "[1.4142135623730951, 2.0, 2.8284271247461903, 3.1622776601683795, 3.4641016151377544, 3.7416573867739413]\n"
          ]
        }
      ]
    }
  ]
}